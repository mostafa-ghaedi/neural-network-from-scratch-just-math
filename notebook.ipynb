{
 "cells": [
  {
   "cell_type": "code",
   "execution_count": 1,
   "id": "d8c289fa",
   "metadata": {},
   "outputs": [],
   "source": [
    "# importing libraries\n",
    "import numpy as np \n",
    "import pandas as pd\n",
    "from matplotlib import pyplot as plt"
   ]
  },
  {
   "cell_type": "code",
   "execution_count": 2,
   "id": "28477e59",
   "metadata": {},
   "outputs": [
    {
     "data": {
      "text/html": [
       "<div>\n",
       "<style scoped>\n",
       "    .dataframe tbody tr th:only-of-type {\n",
       "        vertical-align: middle;\n",
       "    }\n",
       "\n",
       "    .dataframe tbody tr th {\n",
       "        vertical-align: top;\n",
       "    }\n",
       "\n",
       "    .dataframe thead th {\n",
       "        text-align: right;\n",
       "    }\n",
       "</style>\n",
       "<table border=\"1\" class=\"dataframe\">\n",
       "  <thead>\n",
       "    <tr style=\"text-align: right;\">\n",
       "      <th></th>\n",
       "      <th>label</th>\n",
       "      <th>pixel0</th>\n",
       "      <th>pixel1</th>\n",
       "      <th>pixel2</th>\n",
       "      <th>pixel3</th>\n",
       "      <th>pixel4</th>\n",
       "      <th>pixel5</th>\n",
       "      <th>pixel6</th>\n",
       "      <th>pixel7</th>\n",
       "      <th>pixel8</th>\n",
       "      <th>...</th>\n",
       "      <th>pixel774</th>\n",
       "      <th>pixel775</th>\n",
       "      <th>pixel776</th>\n",
       "      <th>pixel777</th>\n",
       "      <th>pixel778</th>\n",
       "      <th>pixel779</th>\n",
       "      <th>pixel780</th>\n",
       "      <th>pixel781</th>\n",
       "      <th>pixel782</th>\n",
       "      <th>pixel783</th>\n",
       "    </tr>\n",
       "  </thead>\n",
       "  <tbody>\n",
       "    <tr>\n",
       "      <th>0</th>\n",
       "      <td>1</td>\n",
       "      <td>0</td>\n",
       "      <td>0</td>\n",
       "      <td>0</td>\n",
       "      <td>0</td>\n",
       "      <td>0</td>\n",
       "      <td>0</td>\n",
       "      <td>0</td>\n",
       "      <td>0</td>\n",
       "      <td>0</td>\n",
       "      <td>...</td>\n",
       "      <td>0</td>\n",
       "      <td>0</td>\n",
       "      <td>0</td>\n",
       "      <td>0</td>\n",
       "      <td>0</td>\n",
       "      <td>0</td>\n",
       "      <td>0</td>\n",
       "      <td>0</td>\n",
       "      <td>0</td>\n",
       "      <td>0</td>\n",
       "    </tr>\n",
       "    <tr>\n",
       "      <th>1</th>\n",
       "      <td>0</td>\n",
       "      <td>0</td>\n",
       "      <td>0</td>\n",
       "      <td>0</td>\n",
       "      <td>0</td>\n",
       "      <td>0</td>\n",
       "      <td>0</td>\n",
       "      <td>0</td>\n",
       "      <td>0</td>\n",
       "      <td>0</td>\n",
       "      <td>...</td>\n",
       "      <td>0</td>\n",
       "      <td>0</td>\n",
       "      <td>0</td>\n",
       "      <td>0</td>\n",
       "      <td>0</td>\n",
       "      <td>0</td>\n",
       "      <td>0</td>\n",
       "      <td>0</td>\n",
       "      <td>0</td>\n",
       "      <td>0</td>\n",
       "    </tr>\n",
       "    <tr>\n",
       "      <th>2</th>\n",
       "      <td>1</td>\n",
       "      <td>0</td>\n",
       "      <td>0</td>\n",
       "      <td>0</td>\n",
       "      <td>0</td>\n",
       "      <td>0</td>\n",
       "      <td>0</td>\n",
       "      <td>0</td>\n",
       "      <td>0</td>\n",
       "      <td>0</td>\n",
       "      <td>...</td>\n",
       "      <td>0</td>\n",
       "      <td>0</td>\n",
       "      <td>0</td>\n",
       "      <td>0</td>\n",
       "      <td>0</td>\n",
       "      <td>0</td>\n",
       "      <td>0</td>\n",
       "      <td>0</td>\n",
       "      <td>0</td>\n",
       "      <td>0</td>\n",
       "    </tr>\n",
       "    <tr>\n",
       "      <th>3</th>\n",
       "      <td>4</td>\n",
       "      <td>0</td>\n",
       "      <td>0</td>\n",
       "      <td>0</td>\n",
       "      <td>0</td>\n",
       "      <td>0</td>\n",
       "      <td>0</td>\n",
       "      <td>0</td>\n",
       "      <td>0</td>\n",
       "      <td>0</td>\n",
       "      <td>...</td>\n",
       "      <td>0</td>\n",
       "      <td>0</td>\n",
       "      <td>0</td>\n",
       "      <td>0</td>\n",
       "      <td>0</td>\n",
       "      <td>0</td>\n",
       "      <td>0</td>\n",
       "      <td>0</td>\n",
       "      <td>0</td>\n",
       "      <td>0</td>\n",
       "    </tr>\n",
       "    <tr>\n",
       "      <th>4</th>\n",
       "      <td>0</td>\n",
       "      <td>0</td>\n",
       "      <td>0</td>\n",
       "      <td>0</td>\n",
       "      <td>0</td>\n",
       "      <td>0</td>\n",
       "      <td>0</td>\n",
       "      <td>0</td>\n",
       "      <td>0</td>\n",
       "      <td>0</td>\n",
       "      <td>...</td>\n",
       "      <td>0</td>\n",
       "      <td>0</td>\n",
       "      <td>0</td>\n",
       "      <td>0</td>\n",
       "      <td>0</td>\n",
       "      <td>0</td>\n",
       "      <td>0</td>\n",
       "      <td>0</td>\n",
       "      <td>0</td>\n",
       "      <td>0</td>\n",
       "    </tr>\n",
       "  </tbody>\n",
       "</table>\n",
       "<p>5 rows × 785 columns</p>\n",
       "</div>"
      ],
      "text/plain": [
       "   label  pixel0  pixel1  pixel2  pixel3  pixel4  pixel5  pixel6  pixel7  \\\n",
       "0      1       0       0       0       0       0       0       0       0   \n",
       "1      0       0       0       0       0       0       0       0       0   \n",
       "2      1       0       0       0       0       0       0       0       0   \n",
       "3      4       0       0       0       0       0       0       0       0   \n",
       "4      0       0       0       0       0       0       0       0       0   \n",
       "\n",
       "   pixel8  ...  pixel774  pixel775  pixel776  pixel777  pixel778  pixel779  \\\n",
       "0       0  ...         0         0         0         0         0         0   \n",
       "1       0  ...         0         0         0         0         0         0   \n",
       "2       0  ...         0         0         0         0         0         0   \n",
       "3       0  ...         0         0         0         0         0         0   \n",
       "4       0  ...         0         0         0         0         0         0   \n",
       "\n",
       "   pixel780  pixel781  pixel782  pixel783  \n",
       "0         0         0         0         0  \n",
       "1         0         0         0         0  \n",
       "2         0         0         0         0  \n",
       "3         0         0         0         0  \n",
       "4         0         0         0         0  \n",
       "\n",
       "[5 rows x 785 columns]"
      ]
     },
     "execution_count": 2,
     "metadata": {},
     "output_type": "execute_result"
    }
   ],
   "source": [
    "# loading dataset\n",
    "data = pd.read_csv(\"D:/machine_learning/neural_network_from_scratch/train.csv\")\n",
    "data.head()"
   ]
  },
  {
   "cell_type": "code",
   "execution_count": 3,
   "id": "61dbb278",
   "metadata": {},
   "outputs": [],
   "source": [
    "# changing dataframe into numpy array \n",
    "data = np.array(data)\n",
    "m, n = data.shape\n",
    "np.random.shuffle(data) # shuffle before splitting into dev and training sets\n",
    "\n",
    "data_dev = data[0:1000].T\n",
    "Y_dev = data_dev[0]\n",
    "X_dev = data_dev[1:n]\n",
    "X_dev = X_dev / 255.\n",
    "\n",
    "data_train = data[1000:m].T\n",
    "Y_train = data_train[0]\n",
    "X_train = data_train[1:n]\n",
    "X_train = X_train / 255.\n",
    "_,m_train = X_train.shape"
   ]
  },
  {
   "cell_type": "code",
   "execution_count": 4,
   "id": "ea37c3b0",
   "metadata": {},
   "outputs": [
    {
     "data": {
      "text/plain": [
       "array([9, 6, 5, ..., 8, 3, 2], shape=(41000,))"
      ]
     },
     "execution_count": 4,
     "metadata": {},
     "output_type": "execute_result"
    }
   ],
   "source": [
    "Y_train"
   ]
  },
  {
   "cell_type": "code",
   "execution_count": 5,
   "id": "f7a6ff6b",
   "metadata": {},
   "outputs": [],
   "source": [
    "def init_params():\n",
    "    W1 = np.random.rand(10, 784) - 0.5\n",
    "    b1 = np.random.rand(10, 1) - 0.5\n",
    "    W2 = np.random.rand(10, 10) - 0.5\n",
    "    b2 = np.random.rand(10, 1) - 0.5\n",
    "    return W1, b1, W2, b2\n",
    "\n",
    "def ReLU(Z):\n",
    "    return np.maximum(Z, 0)\n",
    "\n",
    "def softmax(Z):\n",
    "    A = np.exp(Z) / sum(np.exp(Z))\n",
    "    return A\n",
    "    \n",
    "def forward_prop(W1, b1, W2, b2, X):\n",
    "    Z1 = W1.dot(X) + b1\n",
    "    A1 = ReLU(Z1)\n",
    "    Z2 = W2.dot(A1) + b2\n",
    "    A2 = softmax(Z2)\n",
    "    return Z1, A1, Z2, A2\n",
    "\n",
    "def ReLU_deriv(Z):\n",
    "    return Z > 0\n",
    "\n",
    "def one_hot(Y):\n",
    "    one_hot_Y = np.zeros((Y.size, Y.max() + 1))\n",
    "    one_hot_Y[np.arange(Y.size), Y] = 1\n",
    "    one_hot_Y = one_hot_Y.T\n",
    "    return one_hot_Y\n",
    "\n",
    "def backward_prop(Z1, A1, Z2, A2, W1, W2, X, Y):\n",
    "    one_hot_Y = one_hot(Y)\n",
    "    dZ2 = A2 - one_hot_Y\n",
    "    dW2 = 1 / m * dZ2.dot(A1.T)\n",
    "    db2 = 1 / m * np.sum(dZ2)\n",
    "    dZ1 = W2.T.dot(dZ2) * ReLU_deriv(Z1)\n",
    "    dW1 = 1 / m * dZ1.dot(X.T)\n",
    "    db1 = 1 / m * np.sum(dZ1)\n",
    "    return dW1, db1, dW2, db2\n",
    "\n",
    "def update_params(W1, b1, W2, b2, dW1, db1, dW2, db2, alpha):\n",
    "    W1 = W1 - alpha * dW1\n",
    "    b1 = b1 - alpha * db1    \n",
    "    W2 = W2 - alpha * dW2  \n",
    "    b2 = b2 - alpha * db2    \n",
    "    return W1, b1, W2, b2"
   ]
  },
  {
   "cell_type": "code",
   "execution_count": 6,
   "id": "f94ee4f0",
   "metadata": {},
   "outputs": [],
   "source": [
    "def get_predictions(A2):\n",
    "    return np.argmax(A2, 0)\n",
    "\n",
    "def get_accuracy(predictions, Y):\n",
    "    print(predictions, Y)\n",
    "    return np.sum(predictions == Y) / Y.size\n",
    "\n",
    "def gradient_descent(X, Y, alpha, iterations):\n",
    "    W1, b1, W2, b2 = init_params()\n",
    "    for i in range(iterations):\n",
    "        Z1, A1, Z2, A2 = forward_prop(W1, b1, W2, b2, X)\n",
    "        dW1, db1, dW2, db2 = backward_prop(Z1, A1, Z2, A2, W1, W2, X, Y)\n",
    "        W1, b1, W2, b2 = update_params(W1, b1, W2, b2, dW1, db1, dW2, db2, alpha)\n",
    "        if i % 10 == 0:\n",
    "            print(\"Iteration: \", i)\n",
    "            predictions = get_predictions(A2)\n",
    "            print(get_accuracy(predictions, Y))\n",
    "    return W1, b1, W2, b2"
   ]
  },
  {
   "cell_type": "code",
   "execution_count": 7,
   "id": "3544abe3",
   "metadata": {},
   "outputs": [
    {
     "name": "stdout",
     "output_type": "stream",
     "text": [
      "Iteration:  0\n",
      "[4 4 4 ... 4 4 0] [9 6 5 ... 8 3 2]\n",
      "0.09953658536585366\n",
      "Iteration:  10\n",
      "[9 8 0 ... 5 3 0] [9 6 5 ... 8 3 2]\n",
      "0.21765853658536585\n",
      "Iteration:  20\n",
      "[9 6 0 ... 2 3 0] [9 6 5 ... 8 3 2]\n",
      "0.3201707317073171\n",
      "Iteration:  30\n",
      "[9 6 5 ... 2 3 2] [9 6 5 ... 8 3 2]\n",
      "0.39182926829268294\n",
      "Iteration:  40\n",
      "[9 6 5 ... 2 3 2] [9 6 5 ... 8 3 2]\n",
      "0.4450731707317073\n",
      "Iteration:  50\n",
      "[9 6 5 ... 2 3 2] [9 6 5 ... 8 3 2]\n",
      "0.492\n",
      "Iteration:  60\n",
      "[9 6 5 ... 2 3 2] [9 6 5 ... 8 3 2]\n",
      "0.5564634146341464\n",
      "Iteration:  70\n",
      "[9 6 5 ... 8 3 2] [9 6 5 ... 8 3 2]\n",
      "0.6066341463414634\n",
      "Iteration:  80\n",
      "[9 6 5 ... 8 3 2] [9 6 5 ... 8 3 2]\n",
      "0.6459756097560976\n",
      "Iteration:  90\n",
      "[9 6 5 ... 8 3 2] [9 6 5 ... 8 3 2]\n",
      "0.6734146341463415\n",
      "Iteration:  100\n",
      "[9 6 5 ... 8 3 2] [9 6 5 ... 8 3 2]\n",
      "0.6965365853658536\n",
      "Iteration:  110\n",
      "[9 6 5 ... 8 3 2] [9 6 5 ... 8 3 2]\n",
      "0.7157317073170731\n",
      "Iteration:  120\n",
      "[9 6 5 ... 8 3 2] [9 6 5 ... 8 3 2]\n",
      "0.7304878048780488\n",
      "Iteration:  130\n",
      "[9 6 5 ... 8 3 2] [9 6 5 ... 8 3 2]\n",
      "0.7429024390243902\n",
      "Iteration:  140\n",
      "[9 6 5 ... 8 3 2] [9 6 5 ... 8 3 2]\n",
      "0.754219512195122\n",
      "Iteration:  150\n",
      "[9 6 5 ... 8 3 2] [9 6 5 ... 8 3 2]\n",
      "0.7632682926829268\n",
      "Iteration:  160\n",
      "[9 6 5 ... 8 3 2] [9 6 5 ... 8 3 2]\n",
      "0.7719268292682927\n",
      "Iteration:  170\n",
      "[9 6 5 ... 8 3 2] [9 6 5 ... 8 3 2]\n",
      "0.7787317073170732\n",
      "Iteration:  180\n",
      "[9 6 5 ... 8 3 2] [9 6 5 ... 8 3 2]\n",
      "0.7845853658536586\n",
      "Iteration:  190\n",
      "[9 6 5 ... 8 3 2] [9 6 5 ... 8 3 2]\n",
      "0.7904634146341464\n",
      "Iteration:  200\n",
      "[9 6 5 ... 8 3 2] [9 6 5 ... 8 3 2]\n",
      "0.7954878048780488\n",
      "Iteration:  210\n",
      "[9 6 5 ... 8 3 2] [9 6 5 ... 8 3 2]\n",
      "0.8003170731707318\n",
      "Iteration:  220\n",
      "[9 6 5 ... 8 3 2] [9 6 5 ... 8 3 2]\n",
      "0.8046341463414635\n",
      "Iteration:  230\n",
      "[9 6 5 ... 8 3 2] [9 6 5 ... 8 3 2]\n",
      "0.8084146341463415\n",
      "Iteration:  240\n",
      "[9 6 5 ... 8 3 2] [9 6 5 ... 8 3 2]\n",
      "0.8113902439024391\n",
      "Iteration:  250\n",
      "[9 6 5 ... 8 3 2] [9 6 5 ... 8 3 2]\n",
      "0.815\n",
      "Iteration:  260\n",
      "[9 6 5 ... 8 3 2] [9 6 5 ... 8 3 2]\n",
      "0.8181219512195121\n",
      "Iteration:  270\n",
      "[9 6 5 ... 8 3 2] [9 6 5 ... 8 3 2]\n",
      "0.8213658536585365\n",
      "Iteration:  280\n",
      "[9 6 5 ... 8 3 2] [9 6 5 ... 8 3 2]\n",
      "0.8241463414634146\n",
      "Iteration:  290\n",
      "[9 6 5 ... 8 3 2] [9 6 5 ... 8 3 2]\n",
      "0.8266341463414634\n",
      "Iteration:  300\n",
      "[9 6 5 ... 8 3 2] [9 6 5 ... 8 3 2]\n",
      "0.8286585365853658\n",
      "Iteration:  310\n",
      "[9 6 5 ... 8 3 2] [9 6 5 ... 8 3 2]\n",
      "0.8307317073170731\n",
      "Iteration:  320\n",
      "[9 6 5 ... 8 3 2] [9 6 5 ... 8 3 2]\n",
      "0.8325121951219512\n",
      "Iteration:  330\n",
      "[9 6 5 ... 8 3 2] [9 6 5 ... 8 3 2]\n",
      "0.8341463414634146\n",
      "Iteration:  340\n",
      "[9 6 5 ... 8 3 2] [9 6 5 ... 8 3 2]\n",
      "0.8360731707317073\n",
      "Iteration:  350\n",
      "[9 6 5 ... 8 3 2] [9 6 5 ... 8 3 2]\n",
      "0.8376341463414634\n",
      "Iteration:  360\n",
      "[9 6 5 ... 8 3 2] [9 6 5 ... 8 3 2]\n",
      "0.8393658536585366\n",
      "Iteration:  370\n",
      "[9 6 5 ... 8 3 2] [9 6 5 ... 8 3 2]\n",
      "0.8409512195121951\n",
      "Iteration:  380\n",
      "[9 6 5 ... 8 3 2] [9 6 5 ... 8 3 2]\n",
      "0.8426829268292683\n",
      "Iteration:  390\n",
      "[9 6 5 ... 8 3 2] [9 6 5 ... 8 3 2]\n",
      "0.8440487804878049\n",
      "Iteration:  400\n",
      "[9 6 5 ... 8 3 2] [9 6 5 ... 8 3 2]\n",
      "0.8452682926829268\n",
      "Iteration:  410\n",
      "[9 6 5 ... 8 3 2] [9 6 5 ... 8 3 2]\n",
      "0.8465365853658536\n",
      "Iteration:  420\n",
      "[9 6 5 ... 8 3 2] [9 6 5 ... 8 3 2]\n",
      "0.8478292682926829\n",
      "Iteration:  430\n",
      "[9 6 5 ... 8 3 2] [9 6 5 ... 8 3 2]\n",
      "0.8493414634146341\n",
      "Iteration:  440\n",
      "[9 6 5 ... 8 3 2] [9 6 5 ... 8 3 2]\n",
      "0.8508292682926829\n",
      "Iteration:  450\n",
      "[9 6 5 ... 8 3 2] [9 6 5 ... 8 3 2]\n",
      "0.8520731707317073\n",
      "Iteration:  460\n",
      "[9 6 5 ... 8 3 2] [9 6 5 ... 8 3 2]\n",
      "0.8534146341463414\n",
      "Iteration:  470\n",
      "[9 6 5 ... 8 3 2] [9 6 5 ... 8 3 2]\n",
      "0.8545609756097561\n",
      "Iteration:  480\n",
      "[9 6 5 ... 8 3 2] [9 6 5 ... 8 3 2]\n",
      "0.8555365853658536\n",
      "Iteration:  490\n",
      "[9 6 5 ... 8 3 2] [9 6 5 ... 8 3 2]\n",
      "0.8566341463414634\n"
     ]
    }
   ],
   "source": [
    "W1, b1, W2, b2 = gradient_descent(X_train, Y_train, 0.10, 500)\n"
   ]
  },
  {
   "cell_type": "code",
   "execution_count": 8,
   "id": "4902b6ef",
   "metadata": {},
   "outputs": [],
   "source": [
    "def make_predictions(X, W1, b1, W2, b2):\n",
    "    _, _, _, A2 = forward_prop(W1, b1, W2, b2, X)\n",
    "    predictions = get_predictions(A2)\n",
    "    return predictions\n",
    "\n",
    "def test_prediction(index, W1, b1, W2, b2):\n",
    "    current_image = X_train[:, index, None]\n",
    "    prediction = make_predictions(X_train[:, index, None], W1, b1, W2, b2)\n",
    "    label = Y_train[index]\n",
    "    print(\"Prediction: \", prediction)\n",
    "    print(\"Label: \", label)\n",
    "    \n",
    "    current_image = current_image.reshape((28, 28)) * 255\n",
    "    plt.gray()\n",
    "    plt.imshow(current_image, interpolation='nearest')\n",
    "    plt.show()"
   ]
  },
  {
   "cell_type": "code",
   "execution_count": 9,
   "id": "886e40a6",
   "metadata": {},
   "outputs": [
    {
     "name": "stdout",
     "output_type": "stream",
     "text": [
      "Prediction:  [9]\n",
      "Label:  9\n"
     ]
    },
    {
     "data": {
      "image/png": "[encoded data removed]",
      "text/plain": [
       "<Figure size 640x480 with 1 Axes>"
      ]
     },
     "metadata": {},
     "output_type": "display_data"
    },
    {
     "name": "stdout",
     "output_type": "stream",
     "text": [
      "Prediction:  [6]\n",
      "Label:  6\n"
     ]
    },
    {
     "data": {
      "image/png": "[encoded data removed]",
      "text/plain": [
       "<Figure size 640x480 with 1 Axes>"
      ]
     },
     "metadata": {},
     "output_type": "display_data"
    },
    {
     "name": "stdout",
     "output_type": "stream",
     "text": [
      "Prediction:  [5]\n",
      "Label:  5\n"
     ]
    },
    {
     "data": {
      "image/png": "[encoded data removed]",
      "text/plain": [
       "<Figure size 640x480 with 1 Axes>"
      ]
     },
     "metadata": {},
     "output_type": "display_data"
    },
    {
     "name": "stdout",
     "output_type": "stream",
     "text": [
      "Prediction:  [5]\n",
      "Label:  9\n"
     ]
    },
    {
     "data": {
      "image/png": "[encoded data removed]",
      "text/plain": [
       "<Figure size 640x480 with 1 Axes>"
      ]
     },
     "metadata": {},
     "output_type": "display_data"
    },
    {
     "name": "stdout",
     "output_type": "stream",
     "text": [
      "Prediction:  [6]\n",
      "Label:  6\n"
     ]
    },
    {
     "data": {
      "image/png": "[encoded data removed]",
      "text/plain": [
       "<Figure size 640x480 with 1 Axes>"
      ]
     },
     "metadata": {},
     "output_type": "display_data"
    },
    {
     "name": "stdout",
     "output_type": "stream",
     "text": [
      "Prediction:  [1]\n",
      "Label:  1\n"
     ]
    },
    {
     "data": {
      "image/png": "[encoded data removed]",
      "text/plain": [
       "<Figure size 640x480 with 1 Axes>"
      ]
     },
     "metadata": {},
     "output_type": "display_data"
    },
    {
     "name": "stdout",
     "output_type": "stream",
     "text": [
      "Prediction:  [7]\n",
      "Label:  7\n"
     ]
    },
    {
     "data": {
      "image/png": "[encoded data removed]",
      "text/plain": [
       "<Figure size 640x480 with 1 Axes>"
      ]
     },
     "metadata": {},
     "output_type": "display_data"
    },
    {
     "name": "stdout",
     "output_type": "stream",
     "text": [
      "Prediction:  [9]\n",
      "Label:  9\n"
     ]
    },
    {
     "data": {
      "image/png": "[encoded data removed]",
      "text/plain": [
       "<Figure size 640x480 with 1 Axes>"
      ]
     },
     "metadata": {},
     "output_type": "display_data"
    },
    {
     "name": "stdout",
     "output_type": "stream",
     "text": [
      "Prediction:  [1]\n",
      "Label:  1\n"
     ]
    },
    {
     "data": {
      "image/png": "[encoded data removed]",
      "text/plain": [
       "<Figure size 640x480 with 1 Axes>"
      ]
     },
     "metadata": {},
     "output_type": "display_data"
    },
    {
     "name": "stdout",
     "output_type": "stream",
     "text": [
      "Prediction:  [9]\n",
      "Label:  9\n"
     ]
    },
    {
     "data": {
      "image/png": "[encoded data removed]",
      "text/plain": [
       "<Figure size 640x480 with 1 Axes>"
      ]
     },
     "metadata": {},
     "output_type": "display_data"
    }
   ],
   "source": [
    "for i in range(10):\n",
    "    test_prediction(i, W1, b1, W2, b2)"
   ]
  }
 ],
 "metadata": {
  "kernelspec": {
   "display_name": "Python 3",
   "language": "python",
   "name": "python3"
  },
  "language_info": {
   "codemirror_mode": {
    "name": "ipython",
    "version": 3
   },
   "file_extension": ".py",
   "mimetype": "text/x-python",
   "name": "python",
   "nbconvert_exporter": "python",
   "pygments_lexer": "ipython3",
   "version": "3.12.10"
  }
 },
 "nbformat": 4,
 "nbformat_minor": 5
}
